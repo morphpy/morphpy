{
 "cells": [
  {
   "cell_type": "markdown",
   "source": [
    "# Imports"
   ],
   "metadata": {
    "collapsed": false
   }
  },
  {
   "cell_type": "code",
   "execution_count": null,
   "metadata": {
    "pycharm": {
     "name": "#%%\n"
    }
   },
   "outputs": [],
   "source": [
    "from pysrvf.main_mean import get_data_mean, get_deformation_field_from_tangent_vectors\n",
    "from pysrvf.generic_utils import batch_curve_to_q\n",
    "from pysrvf.compute_geodesic import geodesic_distance_all\n",
    "from morphpy.curveio import readsvgcurvelist\n",
    "from morphpy.viz import plot_shapes, plot_curve, plot_pairwise_distance_matrix, show_table, \\\n",
    "    plot_deformation_field, plot_dendrogram, plot_MDS\n",
    "from pandas import read_csv"
   ]
  },
  {
   "cell_type": "markdown",
   "metadata": {
    "pycharm": {
     "name": "#%% md\n"
    }
   },
   "source": [
    "# Load Data"
   ]
  },
  {
   "cell_type": "code",
   "execution_count": null,
   "metadata": {
    "pycharm": {
     "name": "#%%\n"
    }
   },
   "outputs": [],
   "source": [
    "closed_flag = True\n",
    "Xarray = readsvgcurvelist('/path/to/svgfilelist.txt')\n",
    "taxoncodes = read_csv(\"/path/to/Taxoncodes.csv\")\n",
    "\n",
    "show_table(taxoncodes)\n",
    "plot_shapes(Xarray)"
   ]
  },
  {
   "cell_type": "markdown",
   "metadata": {
    "pycharm": {
     "name": "#%% md\n"
    }
   },
   "source": [
    "# Analyze Data"
   ]
  },
  {
   "cell_type": "code",
   "execution_count": null,
   "metadata": {
    "pycharm": {
     "name": "#%%\n"
    }
   },
   "outputs": [],
   "source": [
    "qarray = batch_curve_to_q(Xarray)\n",
    "\n",
    "alpha_arr, alpha_t_arr, A_norm_iter_arr, E_geo_C_arr, gamma_arr, \\\n",
    "            geo_dist_arr = geodesic_distance_all(qarray[0],'all',closed_flag)\n",
    "\n",
    "qmean, pmean, pmean_scaled, Xdata, qarr, alpha_t_arr = get_data_mean(Xarray)\n",
    "mag_def_field = get_deformation_field_from_tangent_vectors(alpha_t_arr)"
   ]
  },
  {
   "cell_type": "markdown",
   "metadata": {
    "pycharm": {
     "name": "#%% md\n"
    }
   },
   "source": [
    "# Create Visualizations"
   ]
  },
  {
   "cell_type": "code",
   "execution_count": null,
   "metadata": {
    "pycharm": {
     "name": "#%%\n"
    }
   },
   "outputs": [],
   "source": [
    "plot_curve(pmean, 'Mean Shape')\n",
    "plot_pairwise_distance_matrix(geo_dist_arr)\n",
    "plot_deformation_field(pmean, mag_def_field)\n",
    "plot_dendrogram(geo_dist_arr, taxoncodes)\n",
    "plot_MDS(geo_dist_arr, taxoncodes)\n"
   ]
  }
 ],
 "metadata": {
  "kernelspec": {
   "display_name": "Python 3",
   "language": "python",
   "name": "python3"
  },
  "language_info": {
   "codemirror_mode": {
    "name": "ipython",
    "version": 3
   },
   "file_extension": ".py",
   "mimetype": "text/x-python",
   "name": "python",
   "nbconvert_exporter": "python",
   "pygments_lexer": "ipython3",
   "version": "3.9.1"
  }
 },
 "nbformat": 4,
 "nbformat_minor": 4
}
